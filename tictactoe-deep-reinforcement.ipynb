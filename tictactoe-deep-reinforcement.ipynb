{
 "cells": [
  {
   "cell_type": "code",
   "execution_count": 14,
   "id": "03e63070-ad6c-4b30-96ec-7a14fb4762f7",
   "metadata": {},
   "outputs": [],
   "source": [
    "from game import create_env, print_board, ModelPlayer\n",
    "from train import train, load_model, AGENT_PARAMS_FILE\n",
    "import numpy as np"
   ]
  },
  {
   "cell_type": "code",
   "execution_count": 15,
   "id": "dc5e1392-fbf1-49de-80df-09b31fecf178",
   "metadata": {},
   "outputs": [
    {
     "name": "stderr",
     "output_type": "stream",
     "text": [
      "WARNING:absl:At this time, the v2.11+ optimizer `tf.keras.optimizers.RestoredOptimizer` runs slowly on M1/M2 Macs, please use the legacy Keras optimizer instead, located at `tf.keras.optimizers.legacy.RestoredOptimizer`.\n",
      "WARNING:absl:At this time, the v2.11+ optimizer `tf.keras.optimizers.Adam` runs slowly on M1/M2 Macs, please use the legacy Keras optimizer instead, located at `tf.keras.optimizers.legacy.Adam`.\n"
     ]
    }
   ],
   "source": [
    "model = load_model(AGENT_PARAMS_FILE)"
   ]
  },
  {
   "cell_type": "code",
   "execution_count": 16,
   "id": "67bfc1f7-123b-412d-9b06-4029e4674c50",
   "metadata": {},
   "outputs": [],
   "source": [
    "env = create_env()\n",
    "env.reset()"
   ]
  },
  {
   "cell_type": "code",
   "execution_count": 17,
   "id": "2bbf896d-bd76-4916-8d72-b84460dd15ed",
   "metadata": {},
   "outputs": [
    {
     "name": "stdout",
     "output_type": "stream",
     "text": [
      "___\n",
      "___\n",
      "___\n",
      "\n"
     ]
    }
   ],
   "source": [
    "print_board(env, 0)"
   ]
  },
  {
   "cell_type": "code",
   "execution_count": 18,
   "id": "575da641-bc91-49d8-b680-2256863b5864",
   "metadata": {},
   "outputs": [],
   "source": [
    "player = ModelPlayer('ai 1', model)"
   ]
  },
  {
   "cell_type": "code",
   "execution_count": 19,
   "id": "cd91ad49-1039-404f-be31-3017efb37f98",
   "metadata": {},
   "outputs": [
    {
     "data": {
      "text/plain": [
       "0"
      ]
     },
     "execution_count": 19,
     "metadata": {},
     "output_type": "execute_result"
    }
   ],
   "source": [
    "player.get_action(env)"
   ]
  },
  {
   "cell_type": "code",
   "execution_count": 21,
   "id": "d0673118-9fcb-4e55-bce2-aecdafe6a4a1",
   "metadata": {},
   "outputs": [
    {
     "name": "stdout",
     "output_type": "stream",
     "text": [
      "1/1 [==============================] - 0s 12ms/step\n"
     ]
    },
    {
     "data": {
      "text/plain": [
       "array([[-2.9158008, -3.0733206, -3.3060806, -3.0934947, -3.2371035,\n",
       "        -3.0610998, -3.3342307, -3.0541792, -3.1378853]], dtype=float32)"
      ]
     },
     "execution_count": 21,
     "metadata": {},
     "output_type": "execute_result"
    }
   ],
   "source": [
    "model.predict(np.array([env.last('agent1')[0]['observation'].flatten()]))"
   ]
  },
  {
   "cell_type": "raw",
   "id": "33578cc2-bcc4-4a43-814d-1c44eaf04a06",
   "metadata": {},
   "source": [
    "train("
   ]
  }
 ],
 "metadata": {
  "kernelspec": {
   "display_name": "Python 3 (ipykernel)",
   "language": "python",
   "name": "python3"
  },
  "language_info": {
   "codemirror_mode": {
    "name": "ipython",
    "version": 3
   },
   "file_extension": ".py",
   "mimetype": "text/x-python",
   "name": "python",
   "nbconvert_exporter": "python",
   "pygments_lexer": "ipython3",
   "version": "3.9.13"
  }
 },
 "nbformat": 4,
 "nbformat_minor": 5
}
